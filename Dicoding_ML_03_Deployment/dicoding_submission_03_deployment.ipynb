{
  "nbformat": 4,
  "nbformat_minor": 0,
  "metadata": {
    "colab": {
      "name": "dicoding_submission_03_deployment.ipynb",
      "provenance": [],
      "collapsed_sections": []
    },
    "kernelspec": {
      "name": "python3",
      "display_name": "Python 3"
    },
    "language_info": {
      "name": "python"
    },
    "accelerator": "TPU"
  },
  "cells": [
    {
      "cell_type": "markdown",
      "metadata": {
        "id": "NEfFF5dAgaWt"
      },
      "source": [
        "# **Dicoding - Belajar Pengembangan Machine Learning**\n",
        "# Submission 3 - Image Classification Model Deployment\n",
        "\n",
        "### Flowers Recognition<br>\n",
        "https://www.kaggle.com/alxmamaev/flowers-recognition"
      ]
    },
    {
      "cell_type": "code",
      "metadata": {
        "id": "BNpyzNwrfMh8"
      },
      "source": [
        "!pip install -q kaggle"
      ],
      "execution_count": 1,
      "outputs": []
    },
    {
      "cell_type": "code",
      "metadata": {
        "id": "JPkXtqO4fuLq"
      },
      "source": [
        "from google.colab import files\n",
        "\n",
        "import os\n",
        "import shutil\n",
        "import zipfile\n",
        "\n",
        "import matplotlib.pyplot as plt\n",
        "\n",
        "import tensorflow as tf\n",
        "from tensorflow import keras\n",
        "from keras.preprocessing.image import ImageDataGenerator"
      ],
      "execution_count": 2,
      "outputs": []
    },
    {
      "cell_type": "code",
      "metadata": {
        "id": "IcDhivc0gCly",
        "colab": {
          "resources": {
            "http://localhost:8080/nbextensions/google.colab/files.js": {
              "data": "Ly8gQ29weXJpZ2h0IDIwMTcgR29vZ2xlIExMQwovLwovLyBMaWNlbnNlZCB1bmRlciB0aGUgQXBhY2hlIExpY2Vuc2UsIFZlcnNpb24gMi4wICh0aGUgIkxpY2Vuc2UiKTsKLy8geW91IG1heSBub3QgdXNlIHRoaXMgZmlsZSBleGNlcHQgaW4gY29tcGxpYW5jZSB3aXRoIHRoZSBMaWNlbnNlLgovLyBZb3UgbWF5IG9idGFpbiBhIGNvcHkgb2YgdGhlIExpY2Vuc2UgYXQKLy8KLy8gICAgICBodHRwOi8vd3d3LmFwYWNoZS5vcmcvbGljZW5zZXMvTElDRU5TRS0yLjAKLy8KLy8gVW5sZXNzIHJlcXVpcmVkIGJ5IGFwcGxpY2FibGUgbGF3IG9yIGFncmVlZCB0byBpbiB3cml0aW5nLCBzb2Z0d2FyZQovLyBkaXN0cmlidXRlZCB1bmRlciB0aGUgTGljZW5zZSBpcyBkaXN0cmlidXRlZCBvbiBhbiAiQVMgSVMiIEJBU0lTLAovLyBXSVRIT1VUIFdBUlJBTlRJRVMgT1IgQ09ORElUSU9OUyBPRiBBTlkgS0lORCwgZWl0aGVyIGV4cHJlc3Mgb3IgaW1wbGllZC4KLy8gU2VlIHRoZSBMaWNlbnNlIGZvciB0aGUgc3BlY2lmaWMgbGFuZ3VhZ2UgZ292ZXJuaW5nIHBlcm1pc3Npb25zIGFuZAovLyBsaW1pdGF0aW9ucyB1bmRlciB0aGUgTGljZW5zZS4KCi8qKgogKiBAZmlsZW92ZXJ2aWV3IEhlbHBlcnMgZm9yIGdvb2dsZS5jb2xhYiBQeXRob24gbW9kdWxlLgogKi8KKGZ1bmN0aW9uKHNjb3BlKSB7CmZ1bmN0aW9uIHNwYW4odGV4dCwgc3R5bGVBdHRyaWJ1dGVzID0ge30pIHsKICBjb25zdCBlbGVtZW50ID0gZG9jdW1lbnQuY3JlYXRlRWxlbWVudCgnc3BhbicpOwogIGVsZW1lbnQudGV4dENvbnRlbnQgPSB0ZXh0OwogIGZvciAoY29uc3Qga2V5IG9mIE9iamVjdC5rZXlzKHN0eWxlQXR0cmlidXRlcykpIHsKICAgIGVsZW1lbnQuc3R5bGVba2V5XSA9IHN0eWxlQXR0cmlidXRlc1trZXldOwogIH0KICByZXR1cm4gZWxlbWVudDsKfQoKLy8gTWF4IG51bWJlciBvZiBieXRlcyB3aGljaCB3aWxsIGJlIHVwbG9hZGVkIGF0IGEgdGltZS4KY29uc3QgTUFYX1BBWUxPQURfU0laRSA9IDEwMCAqIDEwMjQ7CgpmdW5jdGlvbiBfdXBsb2FkRmlsZXMoaW5wdXRJZCwgb3V0cHV0SWQpIHsKICBjb25zdCBzdGVwcyA9IHVwbG9hZEZpbGVzU3RlcChpbnB1dElkLCBvdXRwdXRJZCk7CiAgY29uc3Qgb3V0cHV0RWxlbWVudCA9IGRvY3VtZW50LmdldEVsZW1lbnRCeUlkKG91dHB1dElkKTsKICAvLyBDYWNoZSBzdGVwcyBvbiB0aGUgb3V0cHV0RWxlbWVudCB0byBtYWtlIGl0IGF2YWlsYWJsZSBmb3IgdGhlIG5leHQgY2FsbAogIC8vIHRvIHVwbG9hZEZpbGVzQ29udGludWUgZnJvbSBQeXRob24uCiAgb3V0cHV0RWxlbWVudC5zdGVwcyA9IHN0ZXBzOwoKICByZXR1cm4gX3VwbG9hZEZpbGVzQ29udGludWUob3V0cHV0SWQpOwp9CgovLyBUaGlzIGlzIHJvdWdobHkgYW4gYXN5bmMgZ2VuZXJhdG9yIChub3Qgc3VwcG9ydGVkIGluIHRoZSBicm93c2VyIHlldCksCi8vIHdoZXJlIHRoZXJlIGFyZSBtdWx0aXBsZSBhc3luY2hyb25vdXMgc3RlcHMgYW5kIHRoZSBQeXRob24gc2lkZSBpcyBnb2luZwovLyB0byBwb2xsIGZvciBjb21wbGV0aW9uIG9mIGVhY2ggc3RlcC4KLy8gVGhpcyB1c2VzIGEgUHJvbWlzZSB0byBibG9jayB0aGUgcHl0aG9uIHNpZGUgb24gY29tcGxldGlvbiBvZiBlYWNoIHN0ZXAsCi8vIHRoZW4gcGFzc2VzIHRoZSByZXN1bHQgb2YgdGhlIHByZXZpb3VzIHN0ZXAgYXMgdGhlIGlucHV0IHRvIHRoZSBuZXh0IHN0ZXAuCmZ1bmN0aW9uIF91cGxvYWRGaWxlc0NvbnRpbnVlKG91dHB1dElkKSB7CiAgY29uc3Qgb3V0cHV0RWxlbWVudCA9IGRvY3VtZW50LmdldEVsZW1lbnRCeUlkKG91dHB1dElkKTsKICBjb25zdCBzdGVwcyA9IG91dHB1dEVsZW1lbnQuc3RlcHM7CgogIGNvbnN0IG5leHQgPSBzdGVwcy5uZXh0KG91dHB1dEVsZW1lbnQubGFzdFByb21pc2VWYWx1ZSk7CiAgcmV0dXJuIFByb21pc2UucmVzb2x2ZShuZXh0LnZhbHVlLnByb21pc2UpLnRoZW4oKHZhbHVlKSA9PiB7CiAgICAvLyBDYWNoZSB0aGUgbGFzdCBwcm9taXNlIHZhbHVlIHRvIG1ha2UgaXQgYXZhaWxhYmxlIHRvIHRoZSBuZXh0CiAgICAvLyBzdGVwIG9mIHRoZSBnZW5lcmF0b3IuCiAgICBvdXRwdXRFbGVtZW50Lmxhc3RQcm9taXNlVmFsdWUgPSB2YWx1ZTsKICAgIHJldHVybiBuZXh0LnZhbHVlLnJlc3BvbnNlOwogIH0pOwp9CgovKioKICogR2VuZXJhdG9yIGZ1bmN0aW9uIHdoaWNoIGlzIGNhbGxlZCBiZXR3ZWVuIGVhY2ggYXN5bmMgc3RlcCBvZiB0aGUgdXBsb2FkCiAqIHByb2Nlc3MuCiAqIEBwYXJhbSB7c3RyaW5nfSBpbnB1dElkIEVsZW1lbnQgSUQgb2YgdGhlIGlucHV0IGZpbGUgcGlja2VyIGVsZW1lbnQuCiAqIEBwYXJhbSB7c3RyaW5nfSBvdXRwdXRJZCBFbGVtZW50IElEIG9mIHRoZSBvdXRwdXQgZGlzcGxheS4KICogQHJldHVybiB7IUl0ZXJhYmxlPCFPYmplY3Q+fSBJdGVyYWJsZSBvZiBuZXh0IHN0ZXBzLgogKi8KZnVuY3Rpb24qIHVwbG9hZEZpbGVzU3RlcChpbnB1dElkLCBvdXRwdXRJZCkgewogIGNvbnN0IGlucHV0RWxlbWVudCA9IGRvY3VtZW50LmdldEVsZW1lbnRCeUlkKGlucHV0SWQpOwogIGlucHV0RWxlbWVudC5kaXNhYmxlZCA9IGZhbHNlOwoKICBjb25zdCBvdXRwdXRFbGVtZW50ID0gZG9jdW1lbnQuZ2V0RWxlbWVudEJ5SWQob3V0cHV0SWQpOwogIG91dHB1dEVsZW1lbnQuaW5uZXJIVE1MID0gJyc7CgogIGNvbnN0IHBpY2tlZFByb21pc2UgPSBuZXcgUHJvbWlzZSgocmVzb2x2ZSkgPT4gewogICAgaW5wdXRFbGVtZW50LmFkZEV2ZW50TGlzdGVuZXIoJ2NoYW5nZScsIChlKSA9PiB7CiAgICAgIHJlc29sdmUoZS50YXJnZXQuZmlsZXMpOwogICAgfSk7CiAgfSk7CgogIGNvbnN0IGNhbmNlbCA9IGRvY3VtZW50LmNyZWF0ZUVsZW1lbnQoJ2J1dHRvbicpOwogIGlucHV0RWxlbWVudC5wYXJlbnRFbGVtZW50LmFwcGVuZENoaWxkKGNhbmNlbCk7CiAgY2FuY2VsLnRleHRDb250ZW50ID0gJ0NhbmNlbCB1cGxvYWQnOwogIGNvbnN0IGNhbmNlbFByb21pc2UgPSBuZXcgUHJvbWlzZSgocmVzb2x2ZSkgPT4gewogICAgY2FuY2VsLm9uY2xpY2sgPSAoKSA9PiB7CiAgICAgIHJlc29sdmUobnVsbCk7CiAgICB9OwogIH0pOwoKICAvLyBXYWl0IGZvciB0aGUgdXNlciB0byBwaWNrIHRoZSBmaWxlcy4KICBjb25zdCBmaWxlcyA9IHlpZWxkIHsKICAgIHByb21pc2U6IFByb21pc2UucmFjZShbcGlja2VkUHJvbWlzZSwgY2FuY2VsUHJvbWlzZV0pLAogICAgcmVzcG9uc2U6IHsKICAgICAgYWN0aW9uOiAnc3RhcnRpbmcnLAogICAgfQogIH07CgogIGNhbmNlbC5yZW1vdmUoKTsKCiAgLy8gRGlzYWJsZSB0aGUgaW5wdXQgZWxlbWVudCBzaW5jZSBmdXJ0aGVyIHBpY2tzIGFyZSBub3QgYWxsb3dlZC4KICBpbnB1dEVsZW1lbnQuZGlzYWJsZWQgPSB0cnVlOwoKICBpZiAoIWZpbGVzKSB7CiAgICByZXR1cm4gewogICAgICByZXNwb25zZTogewogICAgICAgIGFjdGlvbjogJ2NvbXBsZXRlJywKICAgICAgfQogICAgfTsKICB9CgogIGZvciAoY29uc3QgZmlsZSBvZiBmaWxlcykgewogICAgY29uc3QgbGkgPSBkb2N1bWVudC5jcmVhdGVFbGVtZW50KCdsaScpOwogICAgbGkuYXBwZW5kKHNwYW4oZmlsZS5uYW1lLCB7Zm9udFdlaWdodDogJ2JvbGQnfSkpOwogICAgbGkuYXBwZW5kKHNwYW4oCiAgICAgICAgYCgke2ZpbGUudHlwZSB8fCAnbi9hJ30pIC0gJHtmaWxlLnNpemV9IGJ5dGVzLCBgICsKICAgICAgICBgbGFzdCBtb2RpZmllZDogJHsKICAgICAgICAgICAgZmlsZS5sYXN0TW9kaWZpZWREYXRlID8gZmlsZS5sYXN0TW9kaWZpZWREYXRlLnRvTG9jYWxlRGF0ZVN0cmluZygpIDoKICAgICAgICAgICAgICAgICAgICAgICAgICAgICAgICAgICAgJ24vYSd9IC0gYCkpOwogICAgY29uc3QgcGVyY2VudCA9IHNwYW4oJzAlIGRvbmUnKTsKICAgIGxpLmFwcGVuZENoaWxkKHBlcmNlbnQpOwoKICAgIG91dHB1dEVsZW1lbnQuYXBwZW5kQ2hpbGQobGkpOwoKICAgIGNvbnN0IGZpbGVEYXRhUHJvbWlzZSA9IG5ldyBQcm9taXNlKChyZXNvbHZlKSA9PiB7CiAgICAgIGNvbnN0IHJlYWRlciA9IG5ldyBGaWxlUmVhZGVyKCk7CiAgICAgIHJlYWRlci5vbmxvYWQgPSAoZSkgPT4gewogICAgICAgIHJlc29sdmUoZS50YXJnZXQucmVzdWx0KTsKICAgICAgfTsKICAgICAgcmVhZGVyLnJlYWRBc0FycmF5QnVmZmVyKGZpbGUpOwogICAgfSk7CiAgICAvLyBXYWl0IGZvciB0aGUgZGF0YSB0byBiZSByZWFkeS4KICAgIGxldCBmaWxlRGF0YSA9IHlpZWxkIHsKICAgICAgcHJvbWlzZTogZmlsZURhdGFQcm9taXNlLAogICAgICByZXNwb25zZTogewogICAgICAgIGFjdGlvbjogJ2NvbnRpbnVlJywKICAgICAgfQogICAgfTsKCiAgICAvLyBVc2UgYSBjaHVua2VkIHNlbmRpbmcgdG8gYXZvaWQgbWVzc2FnZSBzaXplIGxpbWl0cy4gU2VlIGIvNjIxMTU2NjAuCiAgICBsZXQgcG9zaXRpb24gPSAwOwogICAgZG8gewogICAgICBjb25zdCBsZW5ndGggPSBNYXRoLm1pbihmaWxlRGF0YS5ieXRlTGVuZ3RoIC0gcG9zaXRpb24sIE1BWF9QQVlMT0FEX1NJWkUpOwogICAgICBjb25zdCBjaHVuayA9IG5ldyBVaW50OEFycmF5KGZpbGVEYXRhLCBwb3NpdGlvbiwgbGVuZ3RoKTsKICAgICAgcG9zaXRpb24gKz0gbGVuZ3RoOwoKICAgICAgY29uc3QgYmFzZTY0ID0gYnRvYShTdHJpbmcuZnJvbUNoYXJDb2RlLmFwcGx5KG51bGwsIGNodW5rKSk7CiAgICAgIHlpZWxkIHsKICAgICAgICByZXNwb25zZTogewogICAgICAgICAgYWN0aW9uOiAnYXBwZW5kJywKICAgICAgICAgIGZpbGU6IGZpbGUubmFtZSwKICAgICAgICAgIGRhdGE6IGJhc2U2NCwKICAgICAgICB9LAogICAgICB9OwoKICAgICAgbGV0IHBlcmNlbnREb25lID0gZmlsZURhdGEuYnl0ZUxlbmd0aCA9PT0gMCA/CiAgICAgICAgICAxMDAgOgogICAgICAgICAgTWF0aC5yb3VuZCgocG9zaXRpb24gLyBmaWxlRGF0YS5ieXRlTGVuZ3RoKSAqIDEwMCk7CiAgICAgIHBlcmNlbnQudGV4dENvbnRlbnQgPSBgJHtwZXJjZW50RG9uZX0lIGRvbmVgOwoKICAgIH0gd2hpbGUgKHBvc2l0aW9uIDwgZmlsZURhdGEuYnl0ZUxlbmd0aCk7CiAgfQoKICAvLyBBbGwgZG9uZS4KICB5aWVsZCB7CiAgICByZXNwb25zZTogewogICAgICBhY3Rpb246ICdjb21wbGV0ZScsCiAgICB9CiAgfTsKfQoKc2NvcGUuZ29vZ2xlID0gc2NvcGUuZ29vZ2xlIHx8IHt9OwpzY29wZS5nb29nbGUuY29sYWIgPSBzY29wZS5nb29nbGUuY29sYWIgfHwge307CnNjb3BlLmdvb2dsZS5jb2xhYi5fZmlsZXMgPSB7CiAgX3VwbG9hZEZpbGVzLAogIF91cGxvYWRGaWxlc0NvbnRpbnVlLAp9Owp9KShzZWxmKTsK",
              "ok": true,
              "headers": [
                [
                  "content-type",
                  "application/javascript"
                ]
              ],
              "status": 200,
              "status_text": ""
            }
          },
          "base_uri": "https://localhost:8080/",
          "height": 89
        },
        "outputId": "55e49bbf-1b51-4aa5-bbba-df8f08a0c619"
      },
      "source": [
        "files.upload()"
      ],
      "execution_count": 3,
      "outputs": [
        {
          "output_type": "display_data",
          "data": {
            "text/html": [
              "\n",
              "     <input type=\"file\" id=\"files-b76c8845-d203-4446-b058-1f33c2f576f3\" name=\"files[]\" multiple disabled\n",
              "        style=\"border:none\" />\n",
              "     <output id=\"result-b76c8845-d203-4446-b058-1f33c2f576f3\">\n",
              "      Upload widget is only available when the cell has been executed in the\n",
              "      current browser session. Please rerun this cell to enable.\n",
              "      </output>\n",
              "      <script src=\"/nbextensions/google.colab/files.js\"></script> "
            ],
            "text/plain": [
              "<IPython.core.display.HTML object>"
            ]
          },
          "metadata": {}
        },
        {
          "output_type": "stream",
          "name": "stdout",
          "text": [
            "Saving kaggle.json to kaggle.json\n"
          ]
        },
        {
          "output_type": "execute_result",
          "data": {
            "text/plain": [
              "{'kaggle.json': b'{\"username\":\"rakaputrawidyasf\",\"key\":\"3d5ae91c469976eaffb6589099ee21a1\"}'}"
            ]
          },
          "metadata": {},
          "execution_count": 3
        }
      ]
    },
    {
      "cell_type": "code",
      "metadata": {
        "id": "junLHzjQgFZw",
        "colab": {
          "base_uri": "https://localhost:8080/"
        },
        "outputId": "c9a496fb-7c64-41ba-9c7a-4494762c576f"
      },
      "source": [
        "!mkdir ~/.kaggle\n",
        "!cp kaggle.json ~/.kaggle/\n",
        "!chmod 600 ~/.kaggle/kaggle.json\n",
        "!ls ~/.kaggle"
      ],
      "execution_count": 4,
      "outputs": [
        {
          "output_type": "stream",
          "name": "stdout",
          "text": [
            "kaggle.json\n"
          ]
        }
      ]
    },
    {
      "cell_type": "markdown",
      "metadata": {
        "id": "UNI6anJKgRd4"
      },
      "source": [
        "### Download Dataset"
      ]
    },
    {
      "cell_type": "code",
      "metadata": {
        "id": "tsW5n-wPgPcC",
        "colab": {
          "base_uri": "https://localhost:8080/"
        },
        "outputId": "29e62807-93dc-4900-be86-190c77191c03"
      },
      "source": [
        "!kaggle datasets download -d alxmamaev/flowers-recognition"
      ],
      "execution_count": 5,
      "outputs": [
        {
          "output_type": "stream",
          "name": "stdout",
          "text": [
            "Downloading flowers-recognition.zip to /content\n",
            " 97% 218M/225M [00:02<00:00, 103MB/s] \n",
            "100% 225M/225M [00:02<00:00, 98.7MB/s]\n"
          ]
        }
      ]
    },
    {
      "cell_type": "code",
      "metadata": {
        "id": "IFZkXLqPjpgw"
      },
      "source": [
        "zip_data = \"flowers-recognition.zip\"\n",
        "zip_ref = zipfile.ZipFile(zip_data, \"r\")\n",
        "zip_ref.extractall()\n",
        "zip_ref.close()"
      ],
      "execution_count": 6,
      "outputs": []
    },
    {
      "cell_type": "markdown",
      "metadata": {
        "id": "YNd7Ep5DqwDs"
      },
      "source": [
        "### Preprocessing the Dataset"
      ]
    },
    {
      "cell_type": "code",
      "metadata": {
        "id": "baSmgW4moFhU"
      },
      "source": [
        "dataset_dir = os.path.join(\"flowers\")\n",
        "labels = os.listdir(dataset_dir)"
      ],
      "execution_count": 7,
      "outputs": []
    },
    {
      "cell_type": "code",
      "metadata": {
        "id": "5723Goftq0OY",
        "colab": {
          "base_uri": "https://localhost:8080/"
        },
        "outputId": "c56d89c2-63e5-4c09-b567-e9001b7986cd"
      },
      "source": [
        "label_and_items = {}\n",
        "\n",
        "for label in labels:\n",
        "  items = os.listdir(os.path.join(dataset_dir, label))\n",
        "  label_and_items[label] = len(items)\n",
        "\n",
        "label_and_items"
      ],
      "execution_count": 8,
      "outputs": [
        {
          "output_type": "execute_result",
          "data": {
            "text/plain": [
              "{'daisy': 764, 'dandelion': 1052, 'rose': 784, 'sunflower': 733, 'tulip': 984}"
            ]
          },
          "metadata": {},
          "execution_count": 8
        }
      ]
    },
    {
      "cell_type": "code",
      "metadata": {
        "id": "TpuaMFKSrRp3"
      },
      "source": [
        "def remove_label(label):\n",
        "  shutil.rmtree(os.path.join(dataset_dir, label))\n",
        "  labels.remove(label)\n",
        "  label_and_items.pop(label)"
      ],
      "execution_count": 9,
      "outputs": []
    },
    {
      "cell_type": "code",
      "metadata": {
        "id": "OTunABcZHNvM"
      },
      "source": [
        "remove_label(\"dandelion\")\n",
        "remove_label(\"tulip\")"
      ],
      "execution_count": 10,
      "outputs": []
    },
    {
      "cell_type": "code",
      "metadata": {
        "id": "Ox_gItI91yL2",
        "colab": {
          "base_uri": "https://localhost:8080/"
        },
        "outputId": "55f9dd02-dc40-4960-df95-147e01bb004a"
      },
      "source": [
        "labels"
      ],
      "execution_count": 11,
      "outputs": [
        {
          "output_type": "execute_result",
          "data": {
            "text/plain": [
              "['daisy', 'sunflower', 'rose']"
            ]
          },
          "metadata": {},
          "execution_count": 11
        }
      ]
    },
    {
      "cell_type": "code",
      "metadata": {
        "id": "TqWEo6ev1u3p",
        "colab": {
          "base_uri": "https://localhost:8080/"
        },
        "outputId": "90408206-a138-4780-b6ed-c62c26df3ba7"
      },
      "source": [
        "label_and_items"
      ],
      "execution_count": 12,
      "outputs": [
        {
          "output_type": "execute_result",
          "data": {
            "text/plain": [
              "{'daisy': 764, 'rose': 784, 'sunflower': 733}"
            ]
          },
          "metadata": {},
          "execution_count": 12
        }
      ]
    },
    {
      "cell_type": "markdown",
      "metadata": {
        "id": "5ZrKsQVSoirG"
      },
      "source": [
        "### Split into Training and Validation set"
      ]
    },
    {
      "cell_type": "code",
      "metadata": {
        "id": "m4RNzkTJ-rQG"
      },
      "source": [
        "datagen = ImageDataGenerator(rescale=1./255.0,\n",
        "                             rotation_range=20,\n",
        "                             horizontal_flip=True,\n",
        "                             shear_range=0.2,\n",
        "                             zoom_range=0.2,\n",
        "                             fill_mode=\"nearest\",\n",
        "                             validation_split=0.2)"
      ],
      "execution_count": 13,
      "outputs": []
    },
    {
      "cell_type": "code",
      "metadata": {
        "id": "u35Wj31pkDJx",
        "colab": {
          "base_uri": "https://localhost:8080/"
        },
        "outputId": "3f986986-81bc-4b38-f6a2-56857e67452b"
      },
      "source": [
        "image_size = (150, 150)\n",
        "\n",
        "train_generator = datagen.flow_from_directory(\n",
        "    dataset_dir,\n",
        "    target_size=image_size,\n",
        "    batch_size=32,\n",
        "    class_mode=\"categorical\",\n",
        "    subset=\"training\")\n",
        "    \n",
        "validation_generator = datagen.flow_from_directory(\n",
        "    dataset_dir,\n",
        "    target_size=image_size,\n",
        "    batch_size=32,\n",
        "    class_mode=\"categorical\",\n",
        "    subset=\"validation\")"
      ],
      "execution_count": 14,
      "outputs": [
        {
          "output_type": "stream",
          "name": "stdout",
          "text": [
            "Found 1827 images belonging to 3 classes.\n",
            "Found 454 images belonging to 3 classes.\n"
          ]
        }
      ]
    },
    {
      "cell_type": "markdown",
      "metadata": {
        "id": "hx1R1_dhqetk"
      },
      "source": [
        "### Sequential Model"
      ]
    },
    {
      "cell_type": "code",
      "metadata": {
        "id": "ftZm0BVpqaUp",
        "colab": {
          "base_uri": "https://localhost:8080/"
        },
        "outputId": "2b1d2532-032b-4170-b15e-b9bef8ed204f"
      },
      "source": [
        "input_shape = (150, 150, 3)\n",
        "\n",
        "model = keras.Sequential([\n",
        "    keras.layers.Conv2D(32, (3, 3), activation=\"relu\",\n",
        "                        input_shape=input_shape),\n",
        "    keras.layers.MaxPooling2D(2, 2),\n",
        "    keras.layers.Conv2D(64, (3, 3), activation=\"relu\"),\n",
        "    keras.layers.MaxPooling2D(2, 2),\n",
        "    keras.layers.Conv2D(128, (3, 3), activation=\"relu\"),\n",
        "    keras.layers.MaxPooling2D(2, 2),\n",
        "    keras.layers.Flatten(),\n",
        "    keras.layers.Dropout(0.2),\n",
        "    keras.layers.Dense(256, activation=\"relu\"),\n",
        "    keras.layers.Dense(len(labels), activation=\"softmax\")\n",
        "])\n",
        "\n",
        "model.compile(optimizer=\"adam\",\n",
        "              loss=\"categorical_crossentropy\",\n",
        "              metrics=[\"accuracy\"])\n",
        "\n",
        "model.summary()"
      ],
      "execution_count": 15,
      "outputs": [
        {
          "output_type": "stream",
          "name": "stdout",
          "text": [
            "Model: \"sequential\"\n",
            "_________________________________________________________________\n",
            "Layer (type)                 Output Shape              Param #   \n",
            "=================================================================\n",
            "conv2d (Conv2D)              (None, 148, 148, 32)      896       \n",
            "_________________________________________________________________\n",
            "max_pooling2d (MaxPooling2D) (None, 74, 74, 32)        0         \n",
            "_________________________________________________________________\n",
            "conv2d_1 (Conv2D)            (None, 72, 72, 64)        18496     \n",
            "_________________________________________________________________\n",
            "max_pooling2d_1 (MaxPooling2 (None, 36, 36, 64)        0         \n",
            "_________________________________________________________________\n",
            "conv2d_2 (Conv2D)            (None, 34, 34, 128)       73856     \n",
            "_________________________________________________________________\n",
            "max_pooling2d_2 (MaxPooling2 (None, 17, 17, 128)       0         \n",
            "_________________________________________________________________\n",
            "flatten (Flatten)            (None, 36992)             0         \n",
            "_________________________________________________________________\n",
            "dropout (Dropout)            (None, 36992)             0         \n",
            "_________________________________________________________________\n",
            "dense (Dense)                (None, 256)               9470208   \n",
            "_________________________________________________________________\n",
            "dense_1 (Dense)              (None, 3)                 771       \n",
            "=================================================================\n",
            "Total params: 9,564,227\n",
            "Trainable params: 9,564,227\n",
            "Non-trainable params: 0\n",
            "_________________________________________________________________\n"
          ]
        }
      ]
    },
    {
      "cell_type": "markdown",
      "metadata": {
        "id": "VcMG1uEIBMv5"
      },
      "source": [
        "### Model Training & Validation"
      ]
    },
    {
      "cell_type": "code",
      "metadata": {
        "id": "UfG8qvBAtgok"
      },
      "source": [
        "class CustomCallBack(keras.callbacks.Callback):\n",
        "  def on_epoch_end(self, epoch, logs={}):\n",
        "    if logs.get(\"accuracy\") >= 0.9000 and logs.get(\"val_accuracy\") >= 0.9000:\n",
        "      print(\"Accuracy & Val accuracy was over 85%. Stop training...\")\n",
        "      self.model.stop_training = True\n",
        "\n",
        "callbacks = CustomCallBack()"
      ],
      "execution_count": 16,
      "outputs": []
    },
    {
      "cell_type": "code",
      "metadata": {
        "id": "CyfQyW7yuC9Y",
        "colab": {
          "base_uri": "https://localhost:8080/"
        },
        "outputId": "b9eaa73e-a9d9-4643-dd90-b89fcb3d56b1"
      },
      "source": [
        "history = model.fit(train_generator,\n",
        "                    epochs=32,\n",
        "                    validation_data=validation_generator,\n",
        "                    callbacks=[callbacks])"
      ],
      "execution_count": 17,
      "outputs": [
        {
          "output_type": "stream",
          "name": "stdout",
          "text": [
            "Epoch 1/32\n",
            "58/58 [==============================] - 95s 2s/step - loss: 0.8930 - accuracy: 0.6305 - val_loss: 0.6411 - val_accuracy: 0.7753\n",
            "Epoch 2/32\n",
            "58/58 [==============================] - 93s 2s/step - loss: 0.5717 - accuracy: 0.7668 - val_loss: 0.5902 - val_accuracy: 0.7819\n",
            "Epoch 3/32\n",
            "58/58 [==============================] - 93s 2s/step - loss: 0.5091 - accuracy: 0.7947 - val_loss: 0.5376 - val_accuracy: 0.7996\n",
            "Epoch 4/32\n",
            "58/58 [==============================] - 94s 2s/step - loss: 0.4721 - accuracy: 0.8172 - val_loss: 0.5109 - val_accuracy: 0.7952\n",
            "Epoch 5/32\n",
            "58/58 [==============================] - 93s 2s/step - loss: 0.4587 - accuracy: 0.8062 - val_loss: 0.5216 - val_accuracy: 0.8018\n",
            "Epoch 6/32\n",
            "58/58 [==============================] - 94s 2s/step - loss: 0.4171 - accuracy: 0.8396 - val_loss: 0.5271 - val_accuracy: 0.8106\n",
            "Epoch 7/32\n",
            "58/58 [==============================] - 93s 2s/step - loss: 0.3841 - accuracy: 0.8484 - val_loss: 0.5791 - val_accuracy: 0.7445\n",
            "Epoch 8/32\n",
            "58/58 [==============================] - 96s 2s/step - loss: 0.3671 - accuracy: 0.8550 - val_loss: 0.5076 - val_accuracy: 0.8194\n",
            "Epoch 9/32\n",
            "58/58 [==============================] - 94s 2s/step - loss: 0.3528 - accuracy: 0.8593 - val_loss: 0.5009 - val_accuracy: 0.8370\n",
            "Epoch 10/32\n",
            "58/58 [==============================] - 94s 2s/step - loss: 0.3526 - accuracy: 0.8632 - val_loss: 0.4464 - val_accuracy: 0.8260\n",
            "Epoch 11/32\n",
            "58/58 [==============================] - 94s 2s/step - loss: 0.3245 - accuracy: 0.8703 - val_loss: 0.5270 - val_accuracy: 0.8106\n",
            "Epoch 12/32\n",
            "58/58 [==============================] - 94s 2s/step - loss: 0.3155 - accuracy: 0.8845 - val_loss: 0.5846 - val_accuracy: 0.8172\n",
            "Epoch 13/32\n",
            "58/58 [==============================] - 94s 2s/step - loss: 0.2758 - accuracy: 0.8916 - val_loss: 0.5354 - val_accuracy: 0.8150\n",
            "Epoch 14/32\n",
            "58/58 [==============================] - 94s 2s/step - loss: 0.2761 - accuracy: 0.8987 - val_loss: 0.6432 - val_accuracy: 0.8260\n",
            "Epoch 15/32\n",
            "58/58 [==============================] - 94s 2s/step - loss: 0.2589 - accuracy: 0.9004 - val_loss: 0.5262 - val_accuracy: 0.8502\n",
            "Epoch 16/32\n",
            "58/58 [==============================] - 94s 2s/step - loss: 0.2405 - accuracy: 0.9020 - val_loss: 0.5058 - val_accuracy: 0.8436\n",
            "Epoch 17/32\n",
            "58/58 [==============================] - 94s 2s/step - loss: 0.2422 - accuracy: 0.9031 - val_loss: 0.5127 - val_accuracy: 0.8436\n",
            "Epoch 18/32\n",
            "58/58 [==============================] - 94s 2s/step - loss: 0.2079 - accuracy: 0.9195 - val_loss: 0.5679 - val_accuracy: 0.8172\n",
            "Epoch 19/32\n",
            "58/58 [==============================] - 94s 2s/step - loss: 0.1938 - accuracy: 0.9288 - val_loss: 0.4973 - val_accuracy: 0.8414\n",
            "Epoch 20/32\n",
            "58/58 [==============================] - 94s 2s/step - loss: 0.2016 - accuracy: 0.9272 - val_loss: 0.6385 - val_accuracy: 0.8150\n",
            "Epoch 21/32\n",
            "58/58 [==============================] - 95s 2s/step - loss: 0.2075 - accuracy: 0.9206 - val_loss: 0.6303 - val_accuracy: 0.8282\n",
            "Epoch 22/32\n",
            "58/58 [==============================] - 94s 2s/step - loss: 0.1854 - accuracy: 0.9278 - val_loss: 0.5606 - val_accuracy: 0.8326\n",
            "Epoch 23/32\n",
            "58/58 [==============================] - 94s 2s/step - loss: 0.1596 - accuracy: 0.9414 - val_loss: 0.5404 - val_accuracy: 0.8436\n",
            "Epoch 24/32\n",
            "58/58 [==============================] - 94s 2s/step - loss: 0.1543 - accuracy: 0.9431 - val_loss: 0.6252 - val_accuracy: 0.8414\n",
            "Epoch 25/32\n",
            "58/58 [==============================] - 94s 2s/step - loss: 0.1424 - accuracy: 0.9518 - val_loss: 0.6546 - val_accuracy: 0.8216\n",
            "Epoch 26/32\n",
            "58/58 [==============================] - 94s 2s/step - loss: 0.1611 - accuracy: 0.9403 - val_loss: 0.6046 - val_accuracy: 0.8370\n",
            "Epoch 27/32\n",
            "58/58 [==============================] - 95s 2s/step - loss: 0.1407 - accuracy: 0.9496 - val_loss: 0.7526 - val_accuracy: 0.8194\n",
            "Epoch 28/32\n",
            "58/58 [==============================] - 94s 2s/step - loss: 0.1895 - accuracy: 0.9321 - val_loss: 0.7125 - val_accuracy: 0.8106\n",
            "Epoch 29/32\n",
            "58/58 [==============================] - 94s 2s/step - loss: 0.1566 - accuracy: 0.9436 - val_loss: 0.6177 - val_accuracy: 0.8326\n",
            "Epoch 30/32\n",
            "58/58 [==============================] - 94s 2s/step - loss: 0.1026 - accuracy: 0.9644 - val_loss: 0.7085 - val_accuracy: 0.8458\n",
            "Epoch 31/32\n",
            "58/58 [==============================] - 93s 2s/step - loss: 0.1058 - accuracy: 0.9622 - val_loss: 0.6942 - val_accuracy: 0.8524\n",
            "Epoch 32/32\n",
            "58/58 [==============================] - 94s 2s/step - loss: 0.0889 - accuracy: 0.9655 - val_loss: 0.6521 - val_accuracy: 0.8392\n"
          ]
        }
      ]
    },
    {
      "cell_type": "code",
      "metadata": {
        "id": "M_D3FBSFAZKI",
        "colab": {
          "base_uri": "https://localhost:8080/",
          "height": 295
        },
        "outputId": "4b3dfefc-c131-46d7-bea0-0c8e080ad480"
      },
      "source": [
        "plt.plot(history.history[\"accuracy\"])\n",
        "plt.plot(history.history[\"val_accuracy\"])\n",
        "plt.title(\"Akurasi Model\")\n",
        "plt.ylabel(\"accuracy\")\n",
        "plt.xlabel(\"epoch\")\n",
        "plt.legend([\"train\", \"test\"], loc=\"upper left\")\n",
        "plt.show()"
      ],
      "execution_count": 18,
      "outputs": [
        {
          "output_type": "display_data",
          "data": {
            "image/png": "[encoded data removed]",
            "text/plain": [
              "<Figure size 432x288 with 1 Axes>"
            ]
          },
          "metadata": {
            "needs_background": "light"
          }
        }
      ]
    },
    {
      "cell_type": "code",
      "metadata": {
        "id": "Ktb2_33iAbU-",
        "colab": {
          "base_uri": "https://localhost:8080/",
          "height": 295
        },
        "outputId": "edafbfd6-ba46-49f2-be8d-a099636e9e22"
      },
      "source": [
        "plt.plot(history.history[\"loss\"])\n",
        "plt.plot(history.history[\"val_loss\"])\n",
        "plt.title(\"Loss Model\")\n",
        "plt.ylabel(\"loss\")\n",
        "plt.xlabel(\"epoch\")\n",
        "plt.legend([\"train\", \"test\"], loc=\"upper left\")\n",
        "plt.show()"
      ],
      "execution_count": 19,
      "outputs": [
        {
          "output_type": "display_data",
          "data": {
            "image/png": "[encoded data removed]",
            "text/plain": [
              "<Figure size 432x288 with 1 Axes>"
            ]
          },
          "metadata": {
            "needs_background": "light"
          }
        }
      ]
    },
    {
      "cell_type": "markdown",
      "metadata": {
        "id": "GU4HZwk2BQvC"
      },
      "source": [
        "### Deployment"
      ]
    },
    {
      "cell_type": "code",
      "metadata": {
        "id": "PfxmbOG1AjMP",
        "colab": {
          "base_uri": "https://localhost:8080/"
        },
        "outputId": "f5c31362-44e8-4c2e-8818-4f8268e45d8b"
      },
      "source": [
        "converter = tf.lite.TFLiteConverter.from_keras_model(model)\n",
        "tflite_model = converter.convert()"
      ],
      "execution_count": 20,
      "outputs": [
        {
          "output_type": "stream",
          "name": "stdout",
          "text": [
            "INFO:tensorflow:Assets written to: /tmp/tmp8fmtvo6w/assets\n"
          ]
        }
      ]
    },
    {
      "cell_type": "code",
      "metadata": {
        "id": "_iLMzbmoAq0F"
      },
      "source": [
        "with tf.io.gfile.GFile(\"model.tflite\", \"wb\") as f:\n",
        "  f.write(tflite_model)"
      ],
      "execution_count": 21,
      "outputs": []
    }
  ]
}